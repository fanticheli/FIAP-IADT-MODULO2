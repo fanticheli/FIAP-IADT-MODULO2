{
  "nbformat": 4,
  "nbformat_minor": 0,
  "metadata": {
    "colab": {
      "provenance": []
    },
    "kernelspec": {
      "name": "python3",
      "display_name": "Python 3"
    },
    "language_info": {
      "name": "python"
    }
  },
  "cells": [
    {
      "cell_type": "markdown",
      "source": [
        "## Otimizador de carga de caminhão usando algoritmo genético"
      ],
      "metadata": {
        "id": "axLAZTAtVrCl"
      }
    },
    {
      "cell_type": "markdown",
      "source": [
        "✅ Qual é o problema real?\n",
        "\n",
        "Trabalhamos numa transportadora e precisamos definir:\n",
        "\n",
        "Quais cargas colocar em um caminhão para aproveitar ao máximo sua capacidade, sem ultrapassar o peso e, se for o caso, o volume.\n",
        "\n",
        "Mas tem um detalhe:\n",
        "Nem sempre queremos encher o caminhão de qualquer coisa. Às vezes, queremos maximizar o valor transportado. Por exemplo:\n",
        "\n",
        "Levar 10 caixas baratas pode usar todo o espaço e peso.\n",
        "\n",
        "Levar 3 caixas caras pode dar mais lucro e usar menos espaço.\n",
        "\n",
        "Então:\n",
        "\n",
        "⚠️ Temos um problema de otimização com restrições."
      ],
      "metadata": {
        "id": "TDcl7A52Vs0d"
      }
    },
    {
      "cell_type": "markdown",
      "source": [
        "🎯 O que queremos otimizar nesse problema?\n",
        "\n",
        "Maximizar:\n",
        "O valor total das cargas.\n",
        "\n",
        "Respeitar as restrições:\n",
        "Peso total <= capacidade do caminhão."
      ],
      "metadata": {
        "id": "1AoLKTAkWtrc"
      }
    },
    {
      "cell_type": "markdown",
      "source": [
        "## Implementação"
      ],
      "metadata": {
        "id": "GkCwVXKHYuXU"
      }
    },
    {
      "cell_type": "code",
      "source": [
        "import random\n",
        "import numpy as np\n",
        "import matplotlib.pyplot as plt"
      ],
      "metadata": {
        "id": "p70-dmzfYsAa"
      },
      "execution_count": 355,
      "outputs": []
    },
    {
      "cell_type": "code",
      "source": [
        "cargas = [\n",
        "    {\"nome\": \"Cimento\", \"peso\": 200, \"volume\": 1.5, \"valor\": 500},\n",
        "    {\"nome\": \"Madeira\", \"peso\": 300, \"volume\": 4.0, \"valor\": 700},\n",
        "    {\"nome\": \"Aço\", \"peso\": 500, \"volume\": 3.0, \"valor\": 1500},\n",
        "    {\"nome\": \"Ferramentas\", \"peso\": 150, \"volume\": 0.5, \"valor\": 400},\n",
        "    {\"nome\": \"Produtos de Limpeza\", \"peso\": 100, \"volume\": 1.0, \"valor\": 200},\n",
        "    {\"nome\": \"Móveis\", \"peso\": 350, \"volume\": 5.0, \"valor\": 900},\n",
        "    {\"nome\": \"Eletrônicos\", \"peso\": 250, \"volume\": 1.2, \"valor\": 1100},\n",
        "    {\"nome\": \"Alimentos\", \"peso\": 180, \"volume\": 2.5, \"valor\": 300},\n",
        "    {\"nome\": \"Ferragens\", \"peso\": 220, \"volume\": 1.7, \"valor\": 600},\n",
        "    {\"nome\": \"Produtos Químicos\", \"peso\": 400, \"volume\": 3.8, \"valor\": 1300},\n",
        "    {\"nome\": \"Medicamentos\", \"peso\": 50, \"volume\": 0.2, \"valor\": 2000},\n",
        "    {\"nome\": \"Componentes de Máquina\", \"peso\": 320, \"volume\": 2.0, \"valor\": 800},\n",
        "    {\"nome\": \"Autopeças\", \"peso\": 270, \"volume\": 2.3, \"valor\": 1000},\n",
        "    {\"nome\": \"Papelaria\", \"peso\": 90, \"volume\": 0.7, \"valor\": 150},\n",
        "    {\"nome\": \"Material de Construção\", \"peso\": 600, \"volume\": 6.0, \"valor\": 1400},\n",
        "]\n",
        "\n",
        "cargas_500 = []\n",
        "for i in range(500):\n",
        "    carga_base = random.choice(cargas)\n",
        "    carga_nova = {\n",
        "        \"nome\": carga_base[\"nome\"],\n",
        "        \"peso\": round(carga_base[\"peso\"] * random.uniform(0.9, 1.1), 2),\n",
        "        \"volume\": round(carga_base[\"volume\"] * random.uniform(0.9, 1.1), 2),\n",
        "        \"valor\": round(carga_base[\"valor\"] * random.uniform(0.95, 1.1), 2)\n",
        "    }\n",
        "    cargas_500.append(carga_nova)\n"
      ],
      "metadata": {
        "id": "J0bLSFotaJ8S"
      },
      "execution_count": 356,
      "outputs": []
    },
    {
      "cell_type": "markdown",
      "source": [
        "## Funções auxiliares"
      ],
      "metadata": {
        "id": "x6gEvIorZVGy"
      }
    },
    {
      "cell_type": "code",
      "source": [
        "def criar_individuo(qtd_cargas, min_cargas=5, max_cargas=20):\n",
        "    \"\"\"\n",
        "    Gera um indivíduo com número aleatório de cargas entre min_cargas e max_cargas.\n",
        "    \"\"\"\n",
        "    num_cargas = random.randint(min_cargas, max_cargas)\n",
        "    indices = random.sample(range(qtd_cargas), num_cargas)\n",
        "    individuo = [0] * qtd_cargas\n",
        "    for idx in indices:\n",
        "        individuo[idx] = 1\n",
        "    return np.array(individuo)"
      ],
      "metadata": {
        "id": "guwIHBjwZYoa"
      },
      "execution_count": 357,
      "outputs": []
    },
    {
      "cell_type": "code",
      "source": [
        "def criar_populacao(tamanho_populacao, qtd_cargas, min_cargas=5, max_cargas=20):\n",
        "    return np.array([criar_individuo(qtd_cargas, min_cargas, max_cargas) for _ in range(tamanho_populacao)])"
      ],
      "metadata": {
        "id": "d6bEpuOyZgU6"
      },
      "execution_count": 358,
      "outputs": []
    },
    {
      "cell_type": "code",
      "source": [
        "def calcular_fitness(individuo, cargas, peso_maximo, volume_maximo, validar_valor=False, valor_minimo=0):\n",
        "    peso_total = 0\n",
        "    volume_total = 0\n",
        "    valor_total = 0\n",
        "\n",
        "    for gene, carga in zip(individuo, cargas):\n",
        "        if gene == 1:\n",
        "            peso_total += carga[\"peso\"]\n",
        "            volume_total += carga[\"volume\"]\n",
        "            valor_total += carga[\"valor\"]\n",
        "\n",
        "    if peso_total > peso_maximo or volume_total > volume_maximo:\n",
        "        return 0\n",
        "\n",
        "    if validar_valor and valor_total < valor_minimo:\n",
        "        return 0\n",
        "\n",
        "    return valor_total"
      ],
      "metadata": {
        "id": "HapXsBtPasqB"
      },
      "execution_count": 359,
      "outputs": []
    },
    {
      "cell_type": "code",
      "source": [
        "def selecionar_melhores(populacao, cargas, peso_maximo, volume_maximo, n_melhores, validar_valor=False, valor_minimo=0):\n",
        "    fitness = [calcular_fitness(ind, cargas, peso_maximo, volume_maximo, validar_valor=validar_valor, valor_minimo=valor_minimo) for ind in populacao]\n",
        "    indices_ordenados = np.argsort(fitness)[::-1]\n",
        "    return populacao[indices_ordenados[:n_melhores]]"
      ],
      "metadata": {
        "id": "A2NBO1ecbLG5"
      },
      "execution_count": 360,
      "outputs": []
    },
    {
      "cell_type": "code",
      "source": [
        "def crossover(pai1, pai2):\n",
        "    ponto_corte = random.randint(1, len(pai1)-1)\n",
        "    filho = np.concatenate((pai1[:ponto_corte], pai2[ponto_corte:]))\n",
        "    return filho"
      ],
      "metadata": {
        "id": "zPvbiDMsbMyA"
      },
      "execution_count": 361,
      "outputs": []
    },
    {
      "cell_type": "code",
      "source": [
        "def mutacao(individuo, taxa_mutacao=0.1):\n",
        "    individuo_mutado = individuo.copy()\n",
        "    for i in range(len(individuo_mutado)):\n",
        "        if random.random() < taxa_mutacao:\n",
        "            individuo_mutado[i] = 1 - individuo_mutado[i]\n",
        "    return individuo_mutado"
      ],
      "metadata": {
        "id": "WgnP6HHubQE4"
      },
      "execution_count": 362,
      "outputs": []
    },
    {
      "cell_type": "code",
      "source": [
        "def nova_geracao(populacao, cargas, peso_maximo, volume_maximo, n_melhores, tamanho_populacao, taxa_mutacao):\n",
        "    melhores = selecionar_melhores(populacao, cargas, peso_maximo, volume_maximo, n_melhores)\n",
        "    nova_pop = list(melhores.copy())\n",
        "    while len(nova_pop) < tamanho_populacao:\n",
        "        pai1, pai2 = random.choices(melhores, k=2)\n",
        "        filho = crossover(pai1, pai2)\n",
        "        filho = mutacao(filho, taxa_mutacao)\n",
        "        nova_pop.append(filho)\n",
        "    return np.array(nova_pop)"
      ],
      "metadata": {
        "id": "ZdTYxDrQbTzI"
      },
      "execution_count": 363,
      "outputs": []
    },
    {
      "cell_type": "code",
      "source": [
        "calcular_fitness(criar_individuo(len(cargas_500), max_cargas=20), cargas_500, 5000, 300)"
      ],
      "metadata": {
        "colab": {
          "base_uri": "https://localhost:8080/"
        },
        "id": "f4W6UD5vymIe",
        "outputId": "e38b0f3b-4db0-4a22-82b8-9591e9da461c"
      },
      "execution_count": 364,
      "outputs": [
        {
          "output_type": "execute_result",
          "data": {
            "text/plain": [
              "5769.040000000001"
            ]
          },
          "metadata": {},
          "execution_count": 364
        }
      ]
    },
    {
      "cell_type": "markdown",
      "source": [
        "## Parametrização"
      ],
      "metadata": {
        "id": "b92rvlXojves"
      }
    },
    {
      "cell_type": "code",
      "source": [
        "peso_maximo   = 30000      # kg\n",
        "volume_maximo = 300        # m³\n",
        "valor_minimo  = 50000     # R$\n",
        "\n",
        "max_cargas = 15\n",
        "\n",
        "tamanho_populacao = 100\n",
        "n_melhores = 5\n",
        "taxa_mutacao = 0.1\n",
        "n_geracoes = 1000\n",
        "qtd_cargas = len(cargas_500)\n",
        "validar_valor = True\n"
      ],
      "metadata": {
        "id": "zL9AD65DjuJp"
      },
      "execution_count": 365,
      "outputs": []
    },
    {
      "cell_type": "markdown",
      "source": [
        "## Validando valor minimo de carga"
      ],
      "metadata": {
        "id": "ZrQS7jwPjDtr"
      }
    },
    {
      "cell_type": "code",
      "source": [
        "populacao_valor_minimo = criar_populacao(tamanho_populacao, qtd_cargas, min_cargas=10, max_cargas=30)\n",
        "historico_melhores_valor_minimo = []\n",
        "\n",
        "for geracao in range(n_geracoes):\n",
        "    populacao_valor_minimo = nova_geracao(populacao_valor_minimo, cargas_500, peso_maximo, volume_maximo, n_melhores, tamanho_populacao, taxa_mutacao)\n",
        "    melhor_da_geracao = max([calcular_fitness(ind, cargas_500, peso_maximo, volume_maximo, validar_valor, valor_minimo) for ind in populacao_valor_minimo])\n",
        "    historico_melhores_valor_minimo.append(melhor_da_geracao)"
      ],
      "metadata": {
        "id": "bo_h5DIabWD4"
      },
      "execution_count": 366,
      "outputs": []
    },
    {
      "cell_type": "code",
      "source": [
        "melhor_individuo_valor_minimo = selecionar_melhores(populacao_valor_minimo, cargas_500, peso_maximo, volume_maximo, 1, validar_valor=True, valor_minimo=valor_minimo)[0]\n",
        "fitness_final_valor_minimo = calcular_fitness(melhor_individuo_valor_minimo, cargas_500, peso_maximo, volume_maximo, validar_valor, valor_minimo)\n",
        "\n",
        "print(\"Melhor indivíduo:\", melhor_individuo_valor_minimo)\n",
        "print(\"Fitness (valor total transportado):\", fitness_final_valor_minimo)\n"
      ],
      "metadata": {
        "colab": {
          "base_uri": "https://localhost:8080/"
        },
        "id": "xm2vKxSYchFI",
        "outputId": "fc2f0fba-cdc6-4071-996a-6f102a0bfe69"
      },
      "execution_count": 367,
      "outputs": [
        {
          "output_type": "stream",
          "name": "stdout",
          "text": [
            "Melhor indivíduo: [1 0 0 0 1 0 1 0 1 0 0 0 0 0 0 0 0 0 1 0 0 1 0 1 0 1 0 0 1 0 0 0 0 1 1 0 0\n",
            " 0 1 0 0 0 0 0 0 1 0 0 0 0 0 0 0 0 0 0 1 1 0 0 0 1 1 0 0 0 0 0 0 0 0 0 1 0\n",
            " 0 0 1 0 0 1 0 0 0 0 1 0 0 1 0 1 0 0 1 0 0 1 0 0 0 1 0 0 1 1 0 1 0 0 0 0 0\n",
            " 0 0 0 1 0 1 1 1 0 0 1 1 0 0 0 1 0 1 0 0 1 1 0 0 0 0 0 0 0 0 1 0 1 0 0 1 0\n",
            " 0 0 0 1 0 0 0 0 0 0 1 1 0 0 0 0 0 1 1 0 1 0 0 0 0 1 1 0 0 0 0 0 0 0 0 0 1\n",
            " 0 0 0 0 0 0 0 0 1 0 0 0 0 1 0 0 1 1 1 0 0 1 0 0 1 0 1 0 1 0 0 0 1 1 1 0 0\n",
            " 0 1 1 0 1 1 1 0 1 0 0 0 0 0 0 0 0 0 0 0 0 0 1 1 0 0 1 0 0 0 0 0 0 1 0 0 0\n",
            " 0 0 0 0 1 1 0 1 0 1 0 0 1 0 1 0 0 1 0 1 0 0 0 1 0 0 0 0 0 0 0 1 0 0 0 0 0\n",
            " 0 0 0 1 0 0 0 1 1 0 0 0 0 0 1 1 1 1 0 1 0 0 0 0 0 0 1 0 0 0 0 0 0 1 0 0 0\n",
            " 1 0 1 0 0 0 1 0 1 1 1 0 0 0 0 0 0 0 0 0 0 1 1 0 1 0 1 0 0 0 0 0 1 1 0 1 0\n",
            " 1 1 0 0 0 0 0 0 0 1 0 0 0 1 0 1 1 0 0 1 0 0 1 0 0 0 0 0 0 1 0 0 0 0 0 0 0\n",
            " 0 0 1 0 1 0 0 0 1 1 0 0 1 0 0 0 1 0 0 1 0 0 0 1 1 0 0 0 0 0 0 1 1 0 0 0 0\n",
            " 0 0 0 0 0 1 0 0 0 0 0 1 1 0 1 0 0 0 0 1 0 0 1 0 1 0 0 0 0 0 0 0 0 0 1 1 1\n",
            " 1 0 0 0 0 0 0 1 0 0 1 0 0 0 0 0 0 0 0]\n",
            "Fitness (valor total transportado): 128719.17999999993\n"
          ]
        }
      ]
    },
    {
      "cell_type": "markdown",
      "source": [
        "## Sem validar valor minimo"
      ],
      "metadata": {
        "id": "sfLBX6MBjYwS"
      }
    },
    {
      "cell_type": "code",
      "source": [
        "populacao = criar_populacao(tamanho_populacao, qtd_cargas, min_cargas=10, max_cargas=30)\n",
        "historico_melhores = []\n",
        "\n",
        "for geracao in range(n_geracoes):\n",
        "    populacao = nova_geracao(populacao, cargas_500, peso_maximo, volume_maximo, n_melhores, tamanho_populacao, taxa_mutacao)\n",
        "    melhor_da_geracao = max([calcular_fitness(ind, cargas_500, peso_maximo, volume_maximo) for ind in populacao])\n",
        "    historico_melhores.append(melhor_da_geracao)"
      ],
      "metadata": {
        "id": "D2I7MZGsjINq"
      },
      "execution_count": 368,
      "outputs": []
    },
    {
      "cell_type": "code",
      "source": [
        "melhor_individuo = selecionar_melhores(populacao, cargas_500, peso_maximo, volume_maximo, 1)[0]\n",
        "fitness_final = calcular_fitness(melhor_individuo, cargas_500, peso_maximo, volume_maximo)\n",
        "\n",
        "print(\"Melhor indivíduo:\", melhor_individuo)\n",
        "print(\"Fitness (valor total transportado):\", fitness_final)"
      ],
      "metadata": {
        "colab": {
          "base_uri": "https://localhost:8080/"
        },
        "id": "YzNy9byDjqbq",
        "outputId": "1107f56d-2ce6-4182-923b-326c19ff8ba6"
      },
      "execution_count": 369,
      "outputs": [
        {
          "output_type": "stream",
          "name": "stdout",
          "text": [
            "Melhor indivíduo: [1 0 0 0 0 0 0 1 0 0 0 0 0 1 0 0 0 0 0 0 0 0 0 0 0 0 0 1 1 0 0 0 0 1 0 0 0\n",
            " 1 1 0 1 1 0 0 0 0 1 1 0 0 0 0 0 0 1 0 0 0 0 1 1 0 0 1 0 0 0 0 0 0 0 1 0 1\n",
            " 0 0 0 0 0 0 1 0 1 0 0 1 0 0 0 1 0 0 1 0 0 0 0 0 1 0 1 1 1 0 1 1 1 0 0 0 1\n",
            " 1 1 0 1 0 0 0 1 0 0 0 0 0 0 1 0 0 0 0 0 0 0 0 0 0 0 1 0 1 1 0 0 0 0 0 1 0\n",
            " 0 0 0 0 0 0 0 0 0 1 0 0 0 0 0 0 0 0 0 0 0 0 0 0 0 0 1 0 0 1 0 0 0 1 0 0 0\n",
            " 0 0 0 0 0 0 0 0 0 0 0 1 0 1 0 0 0 1 0 0 0 0 0 1 1 0 1 1 1 0 0 1 1 0 0 0 0\n",
            " 1 0 1 0 1 0 0 1 0 0 0 0 1 1 0 0 0 0 0 0 0 0 0 0 0 1 0 0 1 0 0 1 1 0 1 0 0\n",
            " 0 0 0 0 0 1 0 1 0 1 0 0 0 0 0 0 0 0 0 1 1 0 0 0 0 1 0 0 1 1 1 0 0 0 0 1 0\n",
            " 0 1 0 0 0 1 0 0 0 0 1 0 0 0 0 0 0 0 1 0 0 0 0 0 1 1 1 0 0 1 0 0 0 0 0 0 0\n",
            " 0 0 1 0 0 0 0 1 0 0 0 0 0 0 0 0 0 0 0 1 0 0 1 0 1 0 0 1 1 0 0 0 0 0 0 1 1\n",
            " 0 0 0 0 0 1 0 1 0 0 0 0 1 0 1 0 0 0 0 0 0 0 0 0 1 0 1 0 0 0 1 0 1 0 1 0 0\n",
            " 0 0 0 0 0 0 1 0 0 0 0 0 0 0 1 1 0 1 0 0 1 1 0 0 1 0 0 0 0 0 0 0 0 0 0 0 0\n",
            " 0 0 0 1 0 0 1 0 0 0 1 0 0 0 1 0 0 0 0 1 0 0 0 0 1 1 0 0 1 0 0 1 0 0 1 0 0\n",
            " 1 0 1 0 0 0 0 1 0 0 0 0 0 0 1 0 1 1 0]\n",
            "Fitness (valor total transportado): 126512.45999999998\n"
          ]
        }
      ]
    },
    {
      "cell_type": "markdown",
      "source": [
        "## Comparação Grafico"
      ],
      "metadata": {
        "id": "lrnyM4bP1p09"
      }
    },
    {
      "cell_type": "code",
      "source": [
        "plt.plot(historico_melhores, color='blue', label='Sem valor mínimo')\n",
        "plt.plot(historico_melhores_valor_minimo, color='red', label='Com valor mínimo')\n",
        "plt.xlabel('Geração')\n",
        "plt.ylabel('Melhor Fitness')\n",
        "plt.title('Evolução do Algoritmo Genético')\n",
        "plt.legend()\n",
        "plt.ylim(bottom=0)  # força começar do zero\n",
        "plt.show()"
      ],
      "metadata": {
        "colab": {
          "base_uri": "https://localhost:8080/",
          "height": 472
        },
        "id": "rGvuPpGf1oq1",
        "outputId": "5acd3610-9101-4183-ec9c-2cfb5e8249e8"
      },
      "execution_count": 370,
      "outputs": [
        {
          "output_type": "display_data",
          "data": {
            "text/plain": [
              "<Figure size 640x480 with 1 Axes>"
            ],
            "image/png": "[encoded data removed]"
          },
          "metadata": {}
        }
      ]
    }
  ]
}